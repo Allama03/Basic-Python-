{
 "cells": [
  {
   "cell_type": "markdown",
   "id": "5d87df47-d718-4e67-8dc8-af60fbe00980",
   "metadata": {},
   "source": [
    "# Python Basics"
   ]
  },
  {
   "cell_type": "markdown",
   "id": "63f54027-d766-44be-a2af-42202555c148",
   "metadata": {},
   "source": [
    "### Python Basics Questions"
   ]
  },
  {
   "cell_type": "markdown",
   "id": "4a1b8393-e79c-4388-a6a5-6189bd965202",
   "metadata": {},
   "source": [
    "1. What is Python, and why is it popular? \n",
    "   - Python is a highly interpreted programming language known for readability and simplicity,\n",
    "     it was created by Guido van rossum and first released in 1991.\n",
    "     ### Reasons for Python's Popularity:\n",
    "   - All the framework that is necessary to have are in python\n",
    "   - Widely used in iindustries\n",
    "   - Readability and simplicity\n",
    "   - Widely used in data industry\n",
    "   - Python has a lot of liabraries\n",
    "   - Python has a strong community\n",
    "   - Very easy to learn\n",
    "   - Verstile and automation\n",
    "   - Image prcessing\n",
    "     \n",
    "2. What is an interpreter in Python?\n",
    "   - A python interpreter is a program that reads and executes python code line by line, it translate the code into mahcine in readable and executes.\n",
    "     \n",
    "3. What are pre-defined keywords in Python?\n",
    "   - Pre-defined keywords refers to the reserved keywords that holds special meaning and cannot be used as identifiers.\n",
    "   - like >> if, else, true, false, while, for, cotinue, break, elif etc..\n",
    "     \n",
    "4. Can keywords be used as variable names?\n",
    "   - No keywords cannot be used as variale names, keywords are reserved words and have special meaning.\n",
    "     \n",
    "5. What is mutability in Python?\n",
    "   - Mutability in python refers to the ability of an object to be changed after it has been created. in other words mutability holds that object which can be changed and modified after creation.\n",
    "   - like >> list, sets, dictionaries etc..\n",
    "     \n",
    "6. Why are lists mutable, but tuples are immutable?\n",
    "   - Because list has the ability to change after it has been created, we can add, remove or change its elements whenever we want.\n",
    "   - But tuple has no any ability to change or modified thats why it is immutable, Once a tuple is created we cannot modified its elements.\n",
    "     \n",
    "7. What is the difference between “==” and “is” operators in Python?\n",
    "   - They have diffrent purpose like wise..\n",
    "   - in python \"==\" this is a comparison operator, it determines wheather the value of two variables are equal or not.\n",
    "   - but \"is\" this is a identitiy opreator,  this operator is used to check if two variables point to the same object in memory.\n",
    "     \n",
    "8. What are logical operators in Python?\n",
    "   - These operators are used to combine conditional statements.\n",
    "   -      >> and: returns true if both statements are true.\n",
    "   -      >>  or: returns true if at least one statement is true. \n",
    "   -      >> not: reverse the result if result is true it return false\n",
    "     \n",
    "9.  What is type casting in Python?\n",
    "    - The type casting in python it refers to the conversion of one data type into another data type, this is often necessary whe you want to perform operations that require compatible data types or when you want to ensure that a variable is of a specific type.\n",
    "    - int()\n",
    "    - float()\n",
    "    - str()\n",
    "      \n",
    "10. What is the difference between implicit and explicit type casting?\n",
    "    - Implicit >> Python automatically converts one data type into another without explicit instructions from the user.\n",
    "    \n",
    "              # a = 5 #int()\n",
    "              # b = 2.0 #float()\n",
    "              # c = a + b\n",
    "              # c = 7.0 # float()\n",
    "    - Explicit >> The user manually converts one data type into another data type using the functions.\n",
    "    - like >> int(), float(), str()\n",
    "    - a = \"5\"  #str()\n",
    "    - b = int(a)  #where int(a) converts a = (\"5\") into int()\n",
    "      \n",
    "11. What is the purpose of conditional statements in Python?\n",
    "    - Control Flow: Conditional statements control the flow of execution in a program. They determine which block of code should run based on certain conditions.\n",
    "    - Decision Making: They allow the program to make decisions. For example, you can check user input, validate data, or determine the outcome of a calculation.\n",
    "\n",
    "    - if   >> executes a block of code if a specified condition is true.\n",
    "    - elif >> stands for \"else if\" and allows you to check multiple conditions.\n",
    "    - else >> executes a block of code if none of the preceding conditions are true.\n",
    "      \n",
    "12. How does the elif statement work?\n",
    "    - elif >> stands for \"else if\" and allows you to check multiple conditions, if the first condition is false then it moves to next condition that is elif and check wheather it is true or false, if it is true then it prints the statement whichever we want to print, if it false then it moves to next block of code.\n",
    "      \n",
    "13. What is the difference between for and while loops?\n",
    "    - In python loops are used to execute code repeatdly based on condition on over a sequence of items.\n",
    "    - for loop >> The for loop is used to iterat over a sequence. it allows you to execute a block of code for each items in sequence.\n",
    "      like >> list, tuple, str, range\n",
    "    - while loop >> The while loop repeatdly executes a block of code as long as specified condition is true.\n",
    "      \n",
    "14. Describe a scenario where a while loop is more suitable than a for loop?\n",
    "    - Imagine a situation where you are finding you name into file which has already thousand of names until your name met. You dont know how many names are there in a file, so you need to keep finding untill the condition is false, in a such case while loop is more suitable because the  number of iteration needed is not know in advance.\n",
    "          \n"
   ]
  },
  {
   "cell_type": "code",
   "execution_count": 3,
   "id": "56072d78-7eeb-4d7d-af46-f72e25bc778f",
   "metadata": {},
   "outputs": [
    {
     "name": "stdout",
     "output_type": "stream",
     "text": [
      "Pwskills\n"
     ]
    }
   ],
   "source": [
    "#Understanding for Question No. 14.\n",
    "\n",
    "#this set can contain thousand of names\n",
    "File = [\"Allama\", \"Ajay Sir\", \"Muskan Mam\", \"Arfaat Babu\", \"Delhi\", \"Kolkata\", \"Pwskills\", \"Physics wallah\"] \n",
    "Name = \"Pwskills\"\n",
    "\n",
    "# Use a while loop to check if Name is in File or not \n",
    "while Name not in File:\n",
    "    print(\"Name not found in the list.\")\n",
    "    break  # This break is just to prevent an infinite loop for this example\n",
    "\n",
    "# If the name is found, print it\n",
    "if Name in File:\n",
    "    print(Name)"
   ]
  },
  {
   "cell_type": "markdown",
   "id": "77a56170-cf7b-4bf9-aaa8-66177da55a8c",
   "metadata": {},
   "source": [
    "# Practical Questions"
   ]
  },
  {
   "cell_type": "code",
   "execution_count": 140,
   "id": "2979047d-a3d4-4624-b592-823afba49cf1",
   "metadata": {},
   "outputs": [
    {
     "name": "stdout",
     "output_type": "stream",
     "text": [
      "Hello, World!\n"
     ]
    }
   ],
   "source": [
    "1.  #Write a Python program to print \"Hello, World!\".\n",
    "print(\"Hello, World!\") # \"Print\" this is a keyword.  "
   ]
  },
  {
   "cell_type": "code",
   "execution_count": 139,
   "id": "5ea4a864-8cb1-4d1d-a836-8ef6ee8ecef7",
   "metadata": {},
   "outputs": [
    {
     "name": "stdout",
     "output_type": "stream",
     "text": [
      "My name is Md Allama Akbal, and i am 21 years old.\n"
     ]
    }
   ],
   "source": [
    "2. #Write a Python program that displays your name and age.\n",
    "Name = \"Md Allama Akbal\"\n",
    "Age = 21\n",
    "\n",
    "i = Name #i is a variable that assigns Name\n",
    "j = Age #j is a variable that assigns Age\n",
    "print(f\"My name is {i}, and i am {j} years old.\")"
   ]
  },
  {
   "cell_type": "code",
   "execution_count": 138,
   "id": "5d85fe28-85ef-483d-a26c-a584624a9ad8",
   "metadata": {},
   "outputs": [
    {
     "name": "stdout",
     "output_type": "stream",
     "text": [
      "['False', 'None', 'True', 'and', 'as', 'assert', 'async', 'await', 'break', 'class', 'continue', 'def', 'del', 'elif', 'else', 'except', 'finally', 'for', 'from', 'global', 'if', 'import', 'in', 'is', 'lambda', 'nonlocal', 'not', 'or', 'pass', 'raise', 'return', 'try', 'while', 'with', 'yield'] "
     ]
    }
   ],
   "source": [
    "3. #Write code to print all the pre-defined keywords in Python using the keyword library.\n",
    "import keyword\n",
    "keyword = keyword.kwlist\n",
    "print(keyword, end=\" \")\n"
   ]
  },
  {
   "cell_type": "code",
   "execution_count": 45,
   "id": "51c747fb-8664-4b0b-8c0a-6d0055092b02",
   "metadata": {},
   "outputs": [
    {
     "name": "stdin",
     "output_type": "stream",
     "text": [
      "Enter a word:  continue\n"
     ]
    },
    {
     "name": "stdout",
     "output_type": "stream",
     "text": [
      "continue is a python keyword.\n"
     ]
    }
   ],
   "source": [
    "4. #Write a program that checks if a given word is a Python keyword.\n",
    "import keyword\n",
    "\n",
    "# Get the list of python keywords\n",
    "keywords = keyword.kwlist\n",
    "\n",
    "#Take input from the users\n",
    "word = input(\"Enter a word: \")\n",
    "\n",
    "# Check if the word is wheather a Python keyword or not \n",
    "if word in keywords:\n",
    "    print(f\"{word} is a python keyword.\")\n",
    "else:\n",
    "    print(f\"{word} is not a python keyword.\")\n"
   ]
  },
  {
   "cell_type": "code",
   "execution_count": 137,
   "id": "018c849f-cc51-4596-9908-2ae9d4e3f7e0",
   "metadata": {},
   "outputs": [
    {
     "name": "stdout",
     "output_type": "stream",
     "text": [
      "Modified_list >> [2, 4, 6, 8, 10, 12]\n",
      "Error: 'tuple' object does not support item assignment\n"
     ]
    }
   ],
   "source": [
    "5. #Create a list and tuple in Python, and demonstrate how attempting to change an element works differently.\n",
    "\n",
    "#Creating a list\n",
    "my_list = [2, 4, 6, 8, 10, 11]  \n",
    "\n",
    "my_list[5] = 12   #Changing the fifth element of the list\n",
    "\n",
    "print(\"Modified_list >>\", my_list) # Modified_list >> [2, 4, 6, 8, 10, 12] \n",
    "\n",
    "#Vs\n",
    "\n",
    "#Creationg a tuple\n",
    "my_tuple = (1, 2, 3, 4, 5, 8, 7, 8, 9, 10)\n",
    "\n",
    "try:\n",
    "    my_tuple[5] = 6        #Trying to change the fifth element of the tuple\n",
    "except TypeError as e:\n",
    "    print(f\"Error: {e}\")   #Output: >> Error: 'tuple' object does not support item assignment\n",
    "\n"
   ]
  },
  {
   "cell_type": "code",
   "execution_count": 73,
   "id": "2ee59c44-598c-4e22-8735-180db60f5ea9",
   "metadata": {},
   "outputs": [
    {
     "name": "stdout",
     "output_type": "stream",
     "text": [
      "Before modification:\n",
      "Mutable argument: [1, 2, 3]\n",
      "Immutable argument: 5\n",
      "\n",
      "After modification:\n",
      "Mutable argument: [1, 2, 3, 10]\n",
      "Immutable argument: 20\n",
      "\n",
      "Outside the block:\n",
      "Original list: [1, 2, 3, 10]\n",
      "Original number: 20\n"
     ]
    }
   ],
   "source": [
    "6. #Write a function to demonstrate the behavior of mutable and immutable arguments. \n",
    "# Mutable argument (list)\n",
    "my_list = [1, 2, 3]\n",
    "\n",
    "# Immutable argument (integer)\n",
    "my_number = 5\n",
    "\n",
    "# Before modification\n",
    "print(\"Before modification:\")\n",
    "print(\"Mutable argument:\", my_list)\n",
    "print(\"Immutable argument:\", my_number)\n",
    "\n",
    "# Modifying the mutable argument (a list)\n",
    "my_list.append(10)\n",
    "\n",
    "# Trying to modify the immutable argument (an integer)\n",
    "my_number = 20  # This will not change the original value outside this block\n",
    "\n",
    "# After modification\n",
    "print(\"\\nAfter modification:\")\n",
    "print(\"Mutable argument:\", my_list)  # List is modified\n",
    "print(\"Immutable argument:\", my_number)  # Immutable argument inside is changed, but the original stays the same\n",
    "\n",
    "# Outside the block\n",
    "print(\"\\nOutside the block:\")\n",
    "print(\"Original list:\", my_list)  # List is modified\n",
    "print(\"Original number:\", my_number)  # Number is now 20, but outside it's not changed\n",
    "\n"
   ]
  },
  {
   "cell_type": "code",
   "execution_count": 136,
   "id": "29982e67-9f73-4bce-b594-0f3c141c4823",
   "metadata": {},
   "outputs": [
    {
     "name": "stdin",
     "output_type": "stream",
     "text": [
      "Arfaat, Enter a number:  10\n",
      "Tamanna, Enter a number:  5\n"
     ]
    },
    {
     "name": "stdout",
     "output_type": "stream",
     "text": [
      "10 * 5 = 50\n"
     ]
    }
   ],
   "source": [
    "7. #Write a program that performs basic arithmetic operations on two user-input numbers.\n",
    "\n",
    "i =  \"Arfaat\"\n",
    "j =  \"Tamanna\"\n",
    "\n",
    "# Take input values from the user\n",
    "user_1 = int(input(f\"{i}, Enter a number: \"))\n",
    "user_2 = int(input(f\"{j}, Enter a number: \"))\n",
    "\n",
    "# Perform multiplication and print the result\n",
    "Result = user_1 * user_2\n",
    "\n",
    "# This will print the result of the multiplication\n",
    "print(f\"{user_1} * {user_2} = {Result}\")"
   ]
  },
  {
   "cell_type": "code",
   "execution_count": 131,
   "id": "48943c57-ba4f-4ae1-831f-f38bee664073",
   "metadata": {},
   "outputs": [
    {
     "name": "stdin",
     "output_type": "stream",
     "text": [
      "Enter your age:  21\n",
      "Do you have driving license? (Yes/No):  no\n"
     ]
    },
    {
     "name": "stdout",
     "output_type": "stream",
     "text": [
      "You are not allowed to drive\n",
      "You can drive\n",
      "You are elegible to drive\n"
     ]
    }
   ],
   "source": [
    "8. #Write a program to demonstrate the use of logical operators.\n",
    "\n",
    "age = int(input(\"Enter your age: \"))\n",
    "has_license = input(\"Do you have driving license? (Yes/No): \").strip().lower()\n",
    "\n",
    "# Using and condition in logical operators\n",
    "if age > 18 and has_license == \"yes\":\n",
    "    print(\"You are allowed to drive\")\n",
    "else:\n",
    "    print(\"You are not allowed to drive\")\n",
    "\n",
    "# Using or condition in logical operators\n",
    "if age > 18 or has_license == \"yes\":\n",
    "    print(\"You can drive\")\n",
    "else:\n",
    "    print(\"You can not drive\")\n",
    "\n",
    "# Using not condition in logical operators\n",
    "if not has_license == \"Yes\":\n",
    "    print(\"You are elegible to drive\")\n",
    "else:\n",
    "    print(\"You are not elegible to drive\")"
   ]
  },
  {
   "cell_type": "code",
   "execution_count": 135,
   "id": "aedb30ef-836e-4fbd-9746-7620c7cbb20d",
   "metadata": {},
   "outputs": [
    {
     "name": "stdin",
     "output_type": "stream",
     "text": [
      "Enter a value:  10\n"
     ]
    },
    {
     "name": "stdout",
     "output_type": "stream",
     "text": [
      "Converted to integer: 10\n",
      "Converted to float: 10.0\n",
      "Converted to boolean: True\n"
     ]
    }
   ],
   "source": [
    "9. # Write a Python program to convert user input from string to integer, float, and boolean types.\n",
    "\n",
    "# Taking input from the user\n",
    "user_input = input(\"Enter a value: \")\n",
    "\n",
    "# Converting string to integer\n",
    "try:\n",
    "    int_value = int(user_input)\n",
    "    print(f\"Converted to integer: {int_value}\")\n",
    "except ValueError:\n",
    "    print(\"Cannot convert to integer.\")\n",
    "\n",
    "# Converting string to float\n",
    "try:\n",
    "    float_value = float(user_input)\n",
    "    print(f\"Converted to float: {float_value}\")\n",
    "except ValueError:\n",
    "    print(\"Cannot convert to float.\")\n",
    "\n",
    "# Converting string to boolean\n",
    "# In Python, an empty string is False, and non-empty strings are True\n",
    "bool_value = bool(user_input)\n",
    "print(f\"Converted to boolean: {bool_value}\")\n"
   ]
  },
  {
   "cell_type": "code",
   "execution_count": 1,
   "id": "0b579240-d276-4c1e-8cb5-d14f039d6ea1",
   "metadata": {},
   "outputs": [
    {
     "name": "stdout",
     "output_type": "stream",
     "text": [
      "can not convert list elements to an integer\n",
      "can not convert list elements to an float\n"
     ]
    }
   ],
   "source": [
    "10. #Write code to demonstrate type casting with list elements.\n",
    "\n",
    "new_list = [2, 4, 6, 8, 10, \"Pwskills\"]\n",
    "\n",
    "# Type casting with int()\n",
    "try:\n",
    "    a = int(f\"{new_list}\")\n",
    "except:\n",
    "    print(\"can not convert list elements to an integer\")\n",
    "\n",
    "# Type casting with float\n",
    "try:\n",
    "    a = float(f\"{new_list}\")\n",
    "except:\n",
    "    print(\"can not convert list elements to an float\")\n",
    "\n",
    "# Type casting with string \n",
    "try:\n",
    "    a = str(f\"{new_list}\")\n",
    "except:\n",
    "    print(\"can not converts list elements to an string\")\n"
   ]
  },
  {
   "cell_type": "code",
   "execution_count": 155,
   "id": "222198da-590c-4d18-8aac-fc2bd5c566bc",
   "metadata": {},
   "outputs": [
    {
     "name": "stdin",
     "output_type": "stream",
     "text": [
      "Enter a number:  10\n"
     ]
    },
    {
     "name": "stdout",
     "output_type": "stream",
     "text": [
      "10: This is a positive number\n"
     ]
    }
   ],
   "source": [
    "11. #Write a program that checks if a number is positive, negative, or zero.\n",
    "\n",
    "# Take input from the user\n",
    "num = int(input(\"Enter a number: \"))\n",
    "score = 0\n",
    "if num > score: \n",
    "    print(f\"{num}: This is a positive number\")\n",
    "elif num < 0:\n",
    "    print(f\"{num}: This is a negative number\")\n",
    "else:\n",
    "    print(f\"{num}: This is zero\")\n",
    "\n"
   ]
  },
  {
   "cell_type": "code",
   "execution_count": 163,
   "id": "0299d39b-4330-4698-8dbb-99218624952c",
   "metadata": {},
   "outputs": [
    {
     "name": "stdout",
     "output_type": "stream",
     "text": [
      "1 2 3 4 5 6 7 8 9 10 "
     ]
    }
   ],
   "source": [
    "12. #Write a for loop to print numbers from 1 to 10.\n",
    "\n",
    "# Printing number between 1 to 10 using for loop \n",
    "for i in range(11):\n",
    "    if i == 0:\n",
    "        continue\n",
    "    print(i, end=\" \")"
   ]
  },
  {
   "cell_type": "code",
   "execution_count": 194,
   "id": "ea568ab5-669b-4ae6-8058-7db612bc149f",
   "metadata": {},
   "outputs": [
    {
     "name": "stdout",
     "output_type": "stream",
     "text": [
      "Sum of all even numbers between 1 and 50:  {650}\n"
     ]
    }
   ],
   "source": [
    "13. #Write a Python program to find the sum of all even numbers between 1 and 50.\n",
    "\n",
    "# Finding sum of all even number between 1 and 50\n",
    "\n",
    "result = 0\n",
    "\n",
    "# Loop through numbers from 1 to 50\n",
    "for num in range(1,51):\n",
    "    if num % 2 != 0:  #Check if the number is even\n",
    "        continue\n",
    "        \n",
    "    result += num   # Add the even number to the result\n",
    "        \n",
    "print(f\"Sum of all even numbers between 1 and 50: \",{result})"
   ]
  },
  {
   "cell_type": "code",
   "execution_count": 6,
   "id": "fb6fc68e-5a76-4a8f-b859-c2c66d1d74d4",
   "metadata": {},
   "outputs": [
    {
     "name": "stdin",
     "output_type": "stream",
     "text": [
      "Enter a string:  Hello\n"
     ]
    },
    {
     "name": "stdout",
     "output_type": "stream",
     "text": [
      "Reversed string: olleH\n"
     ]
    }
   ],
   "source": [
    "14. #Write a program to reverse a string using a while loop.\n",
    "\n",
    "# Input string from the user\n",
    "input_str = input(\"Enter a string: \")\n",
    "\n",
    "# Initialize an empty string to store the reversed string\n",
    "reversed_string = \"\"\n",
    "\n",
    "# Set an index for the last character in the string\n",
    "index = len(input_str) - 1\n",
    "\n",
    "# Use a while loop to iterate through the string backwards\n",
    "while index >= 0:\n",
    "    reversed_string += input_str[index]\n",
    "    index -= 1  # Move to the previous character\n",
    "    \n",
    "    # Print the reversed string\n",
    "print(\"Reversed string:\", reversed_string)\n"
   ]
  },
  {
   "cell_type": "code",
   "execution_count": 12,
   "id": "b343fe20-47cb-4be2-9e33-f6548355f993",
   "metadata": {},
   "outputs": [
    {
     "name": "stdin",
     "output_type": "stream",
     "text": [
      "Enter the number:  7\n"
     ]
    },
    {
     "name": "stdout",
     "output_type": "stream",
     "text": [
      "The factorial is: 5040\n"
     ]
    }
   ],
   "source": [
    "15. #Write a Python program to calculate the factorial of a number provided by the user using a while loop.\n",
    "\n",
    "# Take input from the user\n",
    "num = int(input(\"Enter the number: \"))\n",
    "\n",
    "# Initialize factorial to 1\n",
    "factorial = 1\n",
    "\n",
    "\n",
    "# Check if the number is negative, as factorial for negative numbers is not defined\n",
    "if num < 0:\n",
    "    print(\"Factorial is not defined for negative numbers.\")\n",
    "else:\n",
    "    # Calculate factorial using a while loop\n",
    "    while num > 0:\n",
    "        factorial *= num \n",
    "        num -= 1  # Decrease the number by 1 in each iteration\n",
    "        \n",
    "# Print the calculated factorial\n",
    "    print(\"The factorial is:\", factorial)"
   ]
  },
  {
   "cell_type": "code",
   "execution_count": null,
   "id": "0de7015c-4457-4bb3-8b69-42cfd0850319",
   "metadata": {},
   "outputs": [],
   "source": []
  }
 ],
 "metadata": {
  "kernelspec": {
   "display_name": "Python 3 (ipykernel)",
   "language": "python",
   "name": "python3"
  },
  "language_info": {
   "codemirror_mode": {
    "name": "ipython",
    "version": 3
   },
   "file_extension": ".py",
   "mimetype": "text/x-python",
   "name": "python",
   "nbconvert_exporter": "python",
   "pygments_lexer": "ipython3",
   "version": "3.12.7"
  }
 },
 "nbformat": 4,
 "nbformat_minor": 5
}
